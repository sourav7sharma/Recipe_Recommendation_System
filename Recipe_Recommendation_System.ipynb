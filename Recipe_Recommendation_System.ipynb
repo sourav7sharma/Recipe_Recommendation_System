{
 "cells": [
  {
   "cell_type": "markdown",
   "metadata": {},
   "source": [
    "# Recipe Recommendation System\n",
    "\n",
    "This notebook demonstrates how the recipe recommendation system works. We'll go through the following steps:\n",
    "1. Data Loading and Exploration\n",
    "2. Feature Engineering\n",
    "3. Model Building\n",
    "4. Making Recommendations"
   ]
  },
  {
   "cell_type": "code",
   "execution_count": null,
   "metadata": {},
   "source": [
    "# Import required libraries\n",
    "import numpy as np\n",
    "import pandas as pd\n",
    "from sklearn.neighbors import NearestNeighbors\n",
    "from sklearn.preprocessing import StandardScaler\n",
    "from sklearn.feature_extraction.text import TfidfVectorizer"
   ]
  },
  {
   "cell_type": "markdown",
   "metadata": {},
   "source": [
    "## 1. Data Loading and Exploration"
   ]
  },
  {
   "cell_type": "code",
   "execution_count": null,
   "metadata": {},
   "source": [
    "# Load the dataset\n",
    "data = pd.read_csv(\"recipe_final (1).csv\")\n",
    "\n",
    "# Display basic information about the dataset\n",
    "print(\"Dataset Shape:\", data.shape)\n",
    "print(\"\\nColumns in the dataset:\")\n",
    "print(data.columns.tolist())\n",
    "print(\"\\nSample data:\")\n",
    "data.head()"
   ]
  },
  {
   "cell_type": "markdown",
   "metadata": {},
   "source": [
    "## 2. Feature Engineering\n",
    "\n",
    "We'll process two types of features:\n",
    "1. Numerical features (calories, fat, etc.)\n",
    "2. Text features (ingredients)"
   ]
  },
  {
   "cell_type": "code",
   "execution_count": null,
   "metadata": {},
   "source": [
    "# Process ingredients using TF-IDF\n",
    "vectorizer = TfidfVectorizer()\n",
    "X_ingredients = vectorizer.fit_transform(data['ingredients_list'])\n",
    "\n",
    "# Display some statistics about the ingredients features\n",
    "print(\"Number of unique ingredients features:\", X_ingredients.shape[1])\n",
    "print(\"Sample ingredients vocabulary:\")\n",
    "print(list(vectorizer.vocabulary_.items())[:10])"
   ]
  },
  {
   "cell_type": "code",
   "execution_count": null,
   "metadata": {},
   "source": [
    "# Normalize numerical features\n",
    "numerical_features = ['calories', 'fat', 'carbohydrates', 'protein', 'cholesterol', 'sodium', 'fiber']\n",
    "scaler = StandardScaler()\n",
    "X_numerical = scaler.fit_transform(data[numerical_features])\n",
    "\n",
    "# Display statistics of numerical features\n",
    "print(\"Numerical features statistics:\")\n",
    "data[numerical_features].describe()"
   ]
  },
  {
   "cell_type": "markdown",
   "metadata": {},
   "source": [
    "## 3. Model Building\n",
    "\n",
    "We'll combine both numerical and text features and build a K-Nearest Neighbors model."
   ]
  },
  {
   "cell_type": "code",
   "execution_count": null,
   "metadata": {},
   "source": [
    "# Combine features\n",
    "X_combined = np.hstack([X_numerical, X_ingredients.toarray()])\n",
    "\n",
    "# Train KNN Model\n",
    "knn = NearestNeighbors(n_neighbors=3, metric='euclidean')\n",
    "knn.fit(X_combined)\n",
    "\n",
    "print(\"Model trained on feature matrix of shape:\", X_combined.shape)"
   ]
  },
  {
   "cell_type": "markdown",
   "metadata": {},
   "source": [
    "## 4. Making Recommendations\n",
    "\n",
    "Let's create a function to get recipe recommendations based on input features."
   ]
  },
  {
   "cell_type": "code",
   "execution_count": null,
   "metadata": {},
   "source": [
    "def recommend_recipes(input_features):\n",
    "    \"\"\"\n",
    "    Get recipe recommendations based on input features.\n",
    "    \n",
    "    Parameters:\n",
    "    input_features (list): List containing [calories, fat, carbs, protein, cholesterol, sodium, fiber, ingredients]\n",
    "    \n",
    "    Returns:\n",
    "    DataFrame: Top 5 recommended recipes\n",
    "    \"\"\"\n",
    "    input_features_scaled = scaler.transform([input_features[:7]])\n",
    "    input_ingredients_transformed = vectorizer.transform([input_features[7]])\n",
    "    input_combined = np.hstack([input_features_scaled, input_ingredients_transformed.toarray()])\n",
    "    \n",
    "    distances, indices = knn.kneighbors(input_combined)\n",
    "    recommendations = data.iloc[indices[0]]\n",
    "    return recommendations[['recipe_name', 'ingredients_list', 'image_url']].head(5)"
   ]
  },
  {
   "cell_type": "markdown",
   "metadata": {},
   "source": [
    "### Example: Getting Recipe Recommendations"
   ]
  },
  {
   "cell_type": "code",
   "execution_count": null,
   "metadata": {},
   "source": [
    "# Example input features\n",
    "sample_input = [\n",
    "    300,  # calories\n",
    "    10,   # fat\n",
    "    40,   # carbohydrates\n",
    "    15,   # protein\n",
    "    20,   # cholesterol\n",
    "    500,  # sodium\n",
    "    5,    # fiber\n",
    "    \"chicken, rice, vegetables\"  # ingredients\n",
    "]\n",
    "\n",
    "# Get recommendations\n",
    "recommendations = recommend_recipes(sample_input)\n",
    "print(\"Recommended Recipes:\")\n",
    "recommendations"
   ]
  }
 ],
 "metadata": {
  "kernelspec": {
   "display_name": "Python 3",
   "language": "python",
   "name": "python3"
  },
  "language_info": {
   "codemirror_mode": {
    "name": "ipython",
    "version": 3
   },
   "file_extension": ".py",
   "mimetype": "text/x-python",
   "name": "python",
   "nbconvert_exporter": "python",
   "pygments_lexer": "ipython3",
   "version": "3.8.0"
  }
 },
 "nbformat": 4,
 "nbformat_minor": 4
}
